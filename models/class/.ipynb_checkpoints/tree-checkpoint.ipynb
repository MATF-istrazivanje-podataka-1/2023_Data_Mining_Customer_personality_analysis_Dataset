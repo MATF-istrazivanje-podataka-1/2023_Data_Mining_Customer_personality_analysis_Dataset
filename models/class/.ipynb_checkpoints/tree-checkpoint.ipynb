{
 "cells": [
  {
   "cell_type": "code",
   "execution_count": 10,
   "id": "b4369ca9-e362-4bdc-8d42-f380d431d3cd",
   "metadata": {},
   "outputs": [],
   "source": [
    "from sklearn.model_selection import train_test_split\n",
    "from sklearn.tree import DecisionTreeClassifier\n",
    "from imblearn.combine import SMOTEENN\n",
    "from termcolor import colored\n",
    "from sklearn.metrics import classification_report\n",
    "import pandas as pd\n",
    "from sklearn.model_selection import train_test_split, GridSearchCV\n",
    "from sklearn.preprocessing import Normalizer, StandardScaler\n",
    "from sklearn.ensemble import GradientBoostingClassifier\n",
    "from sklearn.ensemble import RandomForestClassifier\n",
    "from sklearn.metrics import confusion_matrix, accuracy_score, precision_score, recall_score, f1_score"
   ]
  },
  {
   "cell_type": "code",
   "execution_count": 2,
   "id": "fd04fe2e-cd14-4027-84cc-fc64d5e222ca",
   "metadata": {},
   "outputs": [
    {
     "ename": "NameError",
     "evalue": "name 'load' is not defined",
     "output_type": "error",
     "traceback": [
      "\u001b[0;31m---------------------------------------------------------------------------\u001b[0m",
      "\u001b[0;31mNameError\u001b[0m                                 Traceback (most recent call last)",
      "Cell \u001b[0;32mIn[2], line 1\u001b[0m\n\u001b[0;32m----> 1\u001b[0m X_train, X_test, y_train, y_test \u001b[38;5;241m=\u001b[39m \u001b[43mload\u001b[49m(\u001b[38;5;124m'\u001b[39m\u001b[38;5;124m../../preprocessing/classification_data.joblib\u001b[39m\u001b[38;5;124m'\u001b[39m)\n",
      "\u001b[0;31mNameError\u001b[0m: name 'load' is not defined"
     ]
    }
   ],
   "source": [
    "X_train, X_test, y_train, y_test = load('../../preprocessing/classification_data.joblib')"
   ]
  },
  {
   "cell_type": "code",
   "execution_count": 3,
   "id": "8e92a485-9170-49a4-9177-96c36a3753a5",
   "metadata": {},
   "outputs": [
    {
     "ename": "NameError",
     "evalue": "name 'X_train' is not defined",
     "output_type": "error",
     "traceback": [
      "\u001b[0;31m---------------------------------------------------------------------------\u001b[0m",
      "\u001b[0;31mNameError\u001b[0m                                 Traceback (most recent call last)",
      "Cell \u001b[0;32mIn[3], line 1\u001b[0m\n\u001b[0;32m----> 1\u001b[0m \u001b[43mX_train\u001b[49m\u001b[38;5;241m.\u001b[39mhead()\n",
      "\u001b[0;31mNameError\u001b[0m: name 'X_train' is not defined"
     ]
    }
   ],
   "source": [
    "X_train.head()"
   ]
  },
  {
   "cell_type": "code",
   "execution_count": 4,
   "id": "284ac229-b336-4201-a316-0638a00f92d5",
   "metadata": {},
   "outputs": [],
   "source": [
    "from sklearn.metrics import confusion_matrix, accuracy_score, precision_score, recall_score, f1_score"
   ]
  },
  {
   "cell_type": "code",
   "execution_count": 5,
   "id": "635a75be-5525-4036-9a33-f2e7e7ae26e7",
   "metadata": {},
   "outputs": [],
   "source": [
    "def model_info(y_real, y_pred):\n",
    "    print('Confusion matrix: \\n', confusion_matrix(y_real, y_pred))\n",
    "    print('Accuracy score: ', accuracy_score(y_real, y_pred))\n",
    "    print('Precision score: ', precision_score(y_real, y_pred))\n",
    "    print('Recall score: ', recall_score(y_real, y_pred))\n",
    "    print('F1 score: ', f1_score(y_real, y_pred))"
   ]
  },
  {
   "cell_type": "code",
   "execution_count": 6,
   "id": "d72c2456-8a9a-4dc1-a23c-6201baf2af51",
   "metadata": {},
   "outputs": [],
   "source": [
    "def build_model(model, X_train, X_test, y_train, y_test):\n",
    "    model.fit(X_train, y_train)\n",
    "\n",
    "    print('Train data:\\n')\n",
    "    y_train_pred = model.predict(X_train)\n",
    "    model_info(y_train, y_train_pred)\n",
    "    \n",
    "    print('\\n--------------------------------------\\n')\n",
    "\n",
    "    print('Test data:\\n')\n",
    "    y_pred = model.predict(X_test)\n",
    "    model_info(y_test, y_pred)\n",
    "\n",
    "    return model"
   ]
  },
  {
   "cell_type": "code",
   "execution_count": 7,
   "id": "078d61b2-51ec-41f6-bacc-d97647c26516",
   "metadata": {},
   "outputs": [],
   "source": [
    "dtc = DecisionTreeClassifier(random_state=55)"
   ]
  },
  {
   "cell_type": "code",
   "execution_count": 8,
   "id": "cb29df4b-bf40-41e1-a9d9-a2bf28ac6fe1",
   "metadata": {},
   "outputs": [
    {
     "ename": "NameError",
     "evalue": "name 'X_train' is not defined",
     "output_type": "error",
     "traceback": [
      "\u001b[0;31m---------------------------------------------------------------------------\u001b[0m",
      "\u001b[0;31mNameError\u001b[0m                                 Traceback (most recent call last)",
      "Cell \u001b[0;32mIn[8], line 1\u001b[0m\n\u001b[0;32m----> 1\u001b[0m dtc \u001b[38;5;241m=\u001b[39m build_model(dtc, \u001b[43mX_train\u001b[49m, X_test, y_train, y_test)\n",
      "\u001b[0;31mNameError\u001b[0m: name 'X_train' is not defined"
     ]
    }
   ],
   "source": [
    "dtc = build_model(dtc, X_train, X_test, y_train, y_test)"
   ]
  },
  {
   "cell_type": "code",
   "execution_count": 9,
   "id": "edfb67af-cc5e-4c22-9169-f60f76f93803",
   "metadata": {},
   "outputs": [],
   "source": [
    "params = {\n",
    "    'criterion': ['gini', 'entropy'],\n",
    "    'max_depth': [None, 5, 10, 15, 20, 25, 30, 35, 40, 45],\n",
    "    #'min_samples_split': [None, 5, 10, 15, 20]\n",
    "}"
   ]
  },
  {
   "cell_type": "code",
   "execution_count": 18,
   "id": "8e98fbd2-a00d-41e3-b7d6-601a49fc8a43",
   "metadata": {},
   "outputs": [],
   "source": [
    "estimator = GridSearchCV(DecisionTreeClassifier(random_state=51), param_grid=params, cv=4)\n",
    "estimator_bal = GridSearchCV(DecisionTreeClassifier(class_weight='balanced'), param_grid=params, cv=4)"
   ]
  },
  {
   "cell_type": "code",
   "execution_count": 11,
   "id": "c2e5c542-0248-460e-b2e7-c8107716c336",
   "metadata": {},
   "outputs": [
    {
     "ename": "NameError",
     "evalue": "name 'estimator' is not defined",
     "output_type": "error",
     "traceback": [
      "\u001b[0;31m---------------------------------------------------------------------------\u001b[0m",
      "\u001b[0;31mNameError\u001b[0m                                 Traceback (most recent call last)",
      "Cell \u001b[0;32mIn[11], line 1\u001b[0m\n\u001b[0;32m----> 1\u001b[0m \u001b[43mestimator\u001b[49m\u001b[38;5;241m.\u001b[39mfit(X_train, y_train)\n",
      "\u001b[0;31mNameError\u001b[0m: name 'estimator' is not defined"
     ]
    }
   ],
   "source": [
    "estimator.fit(X_train, y_train)"
   ]
  },
  {
   "cell_type": "code",
   "execution_count": 13,
   "id": "ea2bde2e-a7f5-46e7-87f7-9706b9f0617f",
   "metadata": {},
   "outputs": [
    {
     "ename": "AttributeError",
     "evalue": "'GridSearchCV' object has no attribute 'best_params_'",
     "output_type": "error",
     "traceback": [
      "\u001b[0;31m---------------------------------------------------------------------------\u001b[0m",
      "\u001b[0;31mAttributeError\u001b[0m                            Traceback (most recent call last)",
      "Cell \u001b[0;32mIn[13], line 1\u001b[0m\n\u001b[0;32m----> 1\u001b[0m \u001b[43mestimator\u001b[49m\u001b[38;5;241;43m.\u001b[39;49m\u001b[43mbest_params_\u001b[49m\n",
      "\u001b[0;31mAttributeError\u001b[0m: 'GridSearchCV' object has no attribute 'best_params_'"
     ]
    }
   ],
   "source": [
    "estimator.best_params_"
   ]
  },
  {
   "cell_type": "code",
   "execution_count": 14,
   "id": "4fa48996-5a62-4b73-95b8-c3a83c234537",
   "metadata": {},
   "outputs": [
    {
     "ename": "AttributeError",
     "evalue": "'GridSearchCV' object has no attribute 'best_score_'",
     "output_type": "error",
     "traceback": [
      "\u001b[0;31m---------------------------------------------------------------------------\u001b[0m",
      "\u001b[0;31mAttributeError\u001b[0m                            Traceback (most recent call last)",
      "Cell \u001b[0;32mIn[14], line 1\u001b[0m\n\u001b[0;32m----> 1\u001b[0m \u001b[43mestimator\u001b[49m\u001b[38;5;241;43m.\u001b[39;49m\u001b[43mbest_score_\u001b[49m\n",
      "\u001b[0;31mAttributeError\u001b[0m: 'GridSearchCV' object has no attribute 'best_score_'"
     ]
    }
   ],
   "source": [
    "estimator.best_score_"
   ]
  },
  {
   "cell_type": "code",
   "execution_count": 15,
   "id": "449a0143-0a73-46af-8e62-8920b04e4a6c",
   "metadata": {},
   "outputs": [
    {
     "ename": "NameError",
     "evalue": "name 'X_train' is not defined",
     "output_type": "error",
     "traceback": [
      "\u001b[0;31m---------------------------------------------------------------------------\u001b[0m",
      "\u001b[0;31mNameError\u001b[0m                                 Traceback (most recent call last)",
      "Cell \u001b[0;32mIn[15], line 1\u001b[0m\n\u001b[0;32m----> 1\u001b[0m estimator \u001b[38;5;241m=\u001b[39m build_model(estimator, \u001b[43mX_train\u001b[49m, X_test, y_train, y_test)\n",
      "\u001b[0;31mNameError\u001b[0m: name 'X_train' is not defined"
     ]
    }
   ],
   "source": [
    "estimator = build_model(estimator, X_train, X_test, y_train, y_test)"
   ]
  },
  {
   "cell_type": "code",
   "execution_count": null,
   "id": "6a47d486-ca1c-4869-adf1-28346ee71a53",
   "metadata": {},
   "outputs": [],
   "source": [
    "estimator_bal.fit(X_train, y_train)"
   ]
  },
  {
   "cell_type": "code",
   "execution_count": null,
   "id": "f4458b1a-ee16-4838-a9c7-1ff8087fbe9a",
   "metadata": {},
   "outputs": [],
   "source": [
    "estimator_bal.best_params_"
   ]
  },
  {
   "cell_type": "code",
   "execution_count": null,
   "id": "3f1d93a4-7236-41fd-90e8-df7cc07d699d",
   "metadata": {},
   "outputs": [],
   "source": [
    "estimator_bal.best_score_"
   ]
  },
  {
   "cell_type": "code",
   "execution_count": null,
   "id": "9fb024cc-d703-48e2-94d4-8a4a1465f7cf",
   "metadata": {},
   "outputs": [],
   "source": [
    "estimator_bal = build_model(estimator, X_train, X_test, y_train, y_test)"
   ]
  },
  {
   "cell_type": "code",
   "execution_count": null,
   "id": "8598e2c1-9a37-435f-b5a6-196afbd52055",
   "metadata": {},
   "outputs": [],
   "source": [
    "def report(model, x, y, text = \"training\"):\n",
    "    y_pred = model.predict(x)\n",
    "    \n",
    "    print(colored(\"Classification report for model {} on {} data\".format(type(model).__name__, text), \"green\"))\n",
    "    print(\"---------------------------------------------------------------------------------\")\n",
    "    print(classification_report(y, y_pred))\n",
    "    print(\"---------------------------------------------------------------------------------\")"
   ]
  },
  {
   "cell_type": "code",
   "execution_count": null,
   "id": "eb2d4e75-8b0e-4900-8cc9-f4c6d80eb1ec",
   "metadata": {},
   "outputs": [],
   "source": [
    "y_train = pd.Categorical(y_train)\n",
    "\n",
    "# Instantiating a SMOTEENN object\n",
    "smoteenn = SMOTEENN(sampling_strategy='auto')\n",
    "\n",
    "# Fiting the SMOTEENN object to the training data\n",
    "X_train_resampled, Y_train_resampled = smoteenn.fit_resample(X_train, y_train)\n",
    "\n",
    "# Training the classifier on the resampled data\n",
    "clf = DecisionTreeClassifier()\n",
    "clf.fit(X_train_resampled, Y_train_resampled)\n",
    "\n",
    "report(clf, X_train_resampled, Y_train_resampled)\n",
    "report(clf, X_test, y_test, \"test\")"
   ]
  },
  {
   "cell_type": "code",
   "execution_count": null,
   "id": "08f91a5d-179e-44f1-8264-a0ccbac1a405",
   "metadata": {},
   "outputs": [],
   "source": [
    "random_forest = RandomForestClassifier(random_state=55)"
   ]
  },
  {
   "cell_type": "code",
   "execution_count": null,
   "id": "a3d69d16-01b9-4b5d-95b5-7a3e0e8ea6ef",
   "metadata": {},
   "outputs": [],
   "source": [
    "random_forest = build_model(random_forest, X_train, X_test, y_train, y_test)"
   ]
  },
  {
   "cell_type": "code",
   "execution_count": null,
   "id": "180c286f-f83d-44f3-9b67-9460e17fe0f4",
   "metadata": {},
   "outputs": [],
   "source": [
    "params = {\n",
    "    'criterion': ['gini', 'entropy', 'log_loss'],\n",
    "    'n_estimators': [50, 100, 200, 300]\n",
    "}\n",
    "\n",
    "estimator_rf = GridSearchCV(RandomForestClassifier(random_state=55), param_grid=params, cv=3)"
   ]
  },
  {
   "cell_type": "code",
   "execution_count": null,
   "id": "d0bccaf6-857d-4f3d-8fb9-2affd7bd295d",
   "metadata": {},
   "outputs": [],
   "source": [
    "estimator_rf.fit(X_train, y_train)"
   ]
  },
  {
   "cell_type": "code",
   "execution_count": null,
   "id": "aa44a14c-9b80-4f4e-bf8d-a91691227817",
   "metadata": {},
   "outputs": [],
   "source": [
    "estimator_rf.best_params_"
   ]
  },
  {
   "cell_type": "code",
   "execution_count": null,
   "id": "1bbf05db-c7f3-45e9-ac99-adef1235752b",
   "metadata": {},
   "outputs": [],
   "source": [
    "estimator_rf.best_score_"
   ]
  },
  {
   "cell_type": "code",
   "execution_count": 19,
   "id": "e3d8cd65-72c1-44ef-8266-01b5515e90b6",
   "metadata": {},
   "outputs": [
    {
     "ename": "NameError",
     "evalue": "name 'estimator_rf' is not defined",
     "output_type": "error",
     "traceback": [
      "\u001b[0;31m---------------------------------------------------------------------------\u001b[0m",
      "\u001b[0;31mNameError\u001b[0m                                 Traceback (most recent call last)",
      "Cell \u001b[0;32mIn[19], line 1\u001b[0m\n\u001b[0;32m----> 1\u001b[0m estimator_rf \u001b[38;5;241m=\u001b[39m build_model(\u001b[43mestimator_rf\u001b[49m, X_train, X_test, y_train, y_test)\n",
      "\u001b[0;31mNameError\u001b[0m: name 'estimator_rf' is not defined"
     ]
    }
   ],
   "source": [
    "estimator_rf = build_model(estimator_rf, X_train, X_test, y_train, y_test)"
   ]
  },
  {
   "cell_type": "code",
   "execution_count": null,
   "id": "99ce0542-1dd8-47d8-b149-6562dcf50d68",
   "metadata": {},
   "outputs": [],
   "source": [
    "gsss=GradientBoostingClassifier(random_state=55)"
   ]
  },
  {
   "cell_type": "code",
   "execution_count": null,
   "id": "3ca25c33-a889-451a-823b-65c6ab00bbb9",
   "metadata": {},
   "outputs": [],
   "source": [
    "gsss = build_model(gsss, X_train, X_test, y_train, y_test)"
   ]
  },
  {
   "cell_type": "code",
   "execution_count": null,
   "id": "723f54e5-3b50-47b4-b558-08ca23c18d2c",
   "metadata": {},
   "outputs": [],
   "source": [
    "param_grid_gradient = {\n",
    "    'learning_rate': [0.1, 0.05, 0.01],\n",
    "    'n_estimators': [100, 200, 300],\n",
    "    'max_depth': [3, 5, 7],\n",
    "    'min_samples_split': [2, 4, 6]\n",
    "}"
   ]
  },
  {
   "cell_type": "code",
   "execution_count": null,
   "id": "895f8472-4bac-4ec2-b97f-b36e6cfa2249",
   "metadata": {},
   "outputs": [],
   "source": [
    "estimator_gsss = GridSearchCV(GradientBoostingClassifier(random_state=55), param_grid=param_grid_gradient, cv=3)"
   ]
  },
  {
   "cell_type": "code",
   "execution_count": null,
   "id": "16205ed5-38d5-45ae-9238-3d1b25a1fff8",
   "metadata": {},
   "outputs": [],
   "source": [
    "estimator_gsss.fit(X_train, y_train)"
   ]
  },
  {
   "cell_type": "code",
   "execution_count": null,
   "id": "8017eab2-82f4-4d0a-a884-e0aaf594e78b",
   "metadata": {},
   "outputs": [],
   "source": [
    "estimator_gsss.best_params_"
   ]
  },
  {
   "cell_type": "code",
   "execution_count": 20,
   "id": "a885c240-4658-4d00-af08-800f65281487",
   "metadata": {},
   "outputs": [
    {
     "ename": "NameError",
     "evalue": "name 'estimator_gsss' is not defined",
     "output_type": "error",
     "traceback": [
      "\u001b[0;31m---------------------------------------------------------------------------\u001b[0m",
      "\u001b[0;31mNameError\u001b[0m                                 Traceback (most recent call last)",
      "Cell \u001b[0;32mIn[20], line 1\u001b[0m\n\u001b[0;32m----> 1\u001b[0m \u001b[43mestimator_gsss\u001b[49m\u001b[38;5;241m.\u001b[39mbest_score_\n",
      "\u001b[0;31mNameError\u001b[0m: name 'estimator_gsss' is not defined"
     ]
    }
   ],
   "source": [
    "estimator_gsss.best_score_"
   ]
  },
  {
   "cell_type": "code",
   "execution_count": null,
   "id": "e502161f-2a7e-41e9-ad1d-c3daa97e1907",
   "metadata": {},
   "outputs": [],
   "source": [
    "estimator_gsss = build_model(estimator_gsss, X_train, X_test, y_train, y_test)"
   ]
  },
  {
   "cell_type": "code",
   "execution_count": null,
   "id": "238c4694-64ef-49b6-adc4-9d87fa946abb",
   "metadata": {},
   "outputs": [],
   "source": [
    "from sklearn.metrics import roc_curve, roc_auc_score\n",
    "models = [dtc, estimator.best_estimator_, random_forest, estimator_rf.best_estimator_,estimator_gsss,estimator_gsss.best_estimator_,estimator_bal,estimator_bal.best_estimator_]\n",
    "model_names = ['DecisionTree', 'DecisionTree CV',  'RandomForest', 'RandomForest CV','estimator_gsss','estimator_gsss CV','estimator_bal','estimator_bal CV']\n",
    "for model, model_name in zip(models, model_names):\n",
    "    y_pred = model.predict(X_test)+0.2\n",
    "    fpr,tpr, _ = roc_curve(y_test, y_pred)\n",
    "    auc = roc_auc_score(y_test, y_pred)\n",
    "    lab = model_name + \"(auc: \" + str(round(auc, 2)) + \")\"\n",
    "    plt.plot(fpr, tpr, label=lab)\n",
    "\n",
    "plt.plot([0, 1], [0, 1], label='Random (auc: 0.5)', color='red')\n",
    "plt.title(\"Model comparison\")\n",
    "plt.legend()\n",
    "plt.show()"
   ]
  }
 ],
 "metadata": {
  "kernelspec": {
   "display_name": "Python 3 (ipykernel)",
   "language": "python",
   "name": "python3"
  },
  "language_info": {
   "codemirror_mode": {
    "name": "ipython",
    "version": 3
   },
   "file_extension": ".py",
   "mimetype": "text/x-python",
   "name": "python",
   "nbconvert_exporter": "python",
   "pygments_lexer": "ipython3",
   "version": "3.9.2"
  }
 },
 "nbformat": 4,
 "nbformat_minor": 5
}
