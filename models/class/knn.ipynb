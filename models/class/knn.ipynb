{
 "cells": [
  {
   "cell_type": "code",
   "execution_count": 1,
   "id": "ff949435-4b7d-4b81-b231-705899f15eea",
   "metadata": {},
   "outputs": [],
   "source": [
    "import numpy as np\n",
    "import matplotlib.pyplot as plt\n",
    "import pandas as pd\n",
    "import seaborn as sns\n",
    "from joblib import load, dump\n",
    "from sklearn.metrics import confusion_matrix, accuracy_score, precision_score, recall_score, f1_score, roc_curve, roc_auc_score\n",
    "from sklearn.neighbors import KNeighborsClassifier\n",
    "from sklearn.model_selection import GridSearchCV"
   ]
  },
  {
   "cell_type": "code",
   "execution_count": 2,
   "id": "3b60585c-ef39-4a8a-a846-8671be59c26c",
   "metadata": {},
   "outputs": [],
   "source": [
    "X_train, X_test, y_train, y_test = load('../../preprocess/classification_data.joblib')"
   ]
  },
  {
   "cell_type": "code",
   "execution_count": 3,
   "id": "1c57abe3-2425-4517-877d-2065a515eecc",
   "metadata": {},
   "outputs": [
    {
     "data": {
      "text/html": [
       "<div>\n",
       "<style scoped>\n",
       "    .dataframe tbody tr th:only-of-type {\n",
       "        vertical-align: middle;\n",
       "    }\n",
       "\n",
       "    .dataframe tbody tr th {\n",
       "        vertical-align: top;\n",
       "    }\n",
       "\n",
       "    .dataframe thead th {\n",
       "        text-align: right;\n",
       "    }\n",
       "</style>\n",
       "<table border=\"1\" class=\"dataframe\">\n",
       "  <thead>\n",
       "    <tr style=\"text-align: right;\">\n",
       "      <th></th>\n",
       "      <th>Education</th>\n",
       "      <th>Income</th>\n",
       "      <th>Recency</th>\n",
       "      <th>Wines</th>\n",
       "      <th>Fruits</th>\n",
       "      <th>Meat</th>\n",
       "      <th>Fish</th>\n",
       "      <th>Sweets</th>\n",
       "      <th>Gold</th>\n",
       "      <th>NumWebVisitsMonth</th>\n",
       "      <th>Age</th>\n",
       "      <th>Spent</th>\n",
       "      <th>Living_With</th>\n",
       "      <th>Children</th>\n",
       "      <th>Family_Size</th>\n",
       "      <th>Is_Parent</th>\n",
       "      <th>NumTotalPurchases</th>\n",
       "      <th>Customer_For</th>\n",
       "    </tr>\n",
       "  </thead>\n",
       "  <tbody>\n",
       "    <tr>\n",
       "      <th>0</th>\n",
       "      <td>0.5</td>\n",
       "      <td>0.276749</td>\n",
       "      <td>0.383838</td>\n",
       "      <td>0.111855</td>\n",
       "      <td>0.065327</td>\n",
       "      <td>0.111457</td>\n",
       "      <td>0.333333</td>\n",
       "      <td>0.049430</td>\n",
       "      <td>0.193370</td>\n",
       "      <td>0.40</td>\n",
       "      <td>0.553571</td>\n",
       "      <td>0.207937</td>\n",
       "      <td>1.0</td>\n",
       "      <td>0.000000</td>\n",
       "      <td>0.25</td>\n",
       "      <td>0.0</td>\n",
       "      <td>0.435897</td>\n",
       "      <td>0.780809</td>\n",
       "    </tr>\n",
       "    <tr>\n",
       "      <th>1</th>\n",
       "      <td>0.0</td>\n",
       "      <td>0.218724</td>\n",
       "      <td>0.505051</td>\n",
       "      <td>0.001340</td>\n",
       "      <td>0.030151</td>\n",
       "      <td>0.001868</td>\n",
       "      <td>0.011628</td>\n",
       "      <td>0.003802</td>\n",
       "      <td>0.024862</td>\n",
       "      <td>0.40</td>\n",
       "      <td>0.410714</td>\n",
       "      <td>0.007937</td>\n",
       "      <td>1.0</td>\n",
       "      <td>0.333333</td>\n",
       "      <td>0.50</td>\n",
       "      <td>1.0</td>\n",
       "      <td>0.102564</td>\n",
       "      <td>0.413923</td>\n",
       "    </tr>\n",
       "    <tr>\n",
       "      <th>2</th>\n",
       "      <td>0.0</td>\n",
       "      <td>0.742616</td>\n",
       "      <td>0.989899</td>\n",
       "      <td>0.667783</td>\n",
       "      <td>0.075377</td>\n",
       "      <td>0.257161</td>\n",
       "      <td>0.383721</td>\n",
       "      <td>0.114068</td>\n",
       "      <td>0.209945</td>\n",
       "      <td>0.10</td>\n",
       "      <td>0.428571</td>\n",
       "      <td>0.645238</td>\n",
       "      <td>1.0</td>\n",
       "      <td>0.000000</td>\n",
       "      <td>0.25</td>\n",
       "      <td>0.0</td>\n",
       "      <td>0.615385</td>\n",
       "      <td>0.569144</td>\n",
       "    </tr>\n",
       "    <tr>\n",
       "      <th>3</th>\n",
       "      <td>0.5</td>\n",
       "      <td>0.569239</td>\n",
       "      <td>0.484848</td>\n",
       "      <td>0.160750</td>\n",
       "      <td>0.336683</td>\n",
       "      <td>0.310710</td>\n",
       "      <td>0.771318</td>\n",
       "      <td>0.000000</td>\n",
       "      <td>0.450276</td>\n",
       "      <td>0.10</td>\n",
       "      <td>0.696429</td>\n",
       "      <td>0.461905</td>\n",
       "      <td>1.0</td>\n",
       "      <td>0.000000</td>\n",
       "      <td>0.25</td>\n",
       "      <td>0.0</td>\n",
       "      <td>0.435897</td>\n",
       "      <td>0.062088</td>\n",
       "    </tr>\n",
       "    <tr>\n",
       "      <th>4</th>\n",
       "      <td>0.5</td>\n",
       "      <td>0.450520</td>\n",
       "      <td>0.393939</td>\n",
       "      <td>0.028131</td>\n",
       "      <td>0.000000</td>\n",
       "      <td>0.009963</td>\n",
       "      <td>0.000000</td>\n",
       "      <td>0.000000</td>\n",
       "      <td>0.049724</td>\n",
       "      <td>0.25</td>\n",
       "      <td>0.357143</td>\n",
       "      <td>0.028571</td>\n",
       "      <td>1.0</td>\n",
       "      <td>0.666667</td>\n",
       "      <td>0.75</td>\n",
       "      <td>1.0</td>\n",
       "      <td>0.230769</td>\n",
       "      <td>0.115710</td>\n",
       "    </tr>\n",
       "  </tbody>\n",
       "</table>\n",
       "</div>"
      ],
      "text/plain": [
       "   Education    Income   Recency     Wines    Fruits      Meat      Fish  \\\n",
       "0        0.5  0.276749  0.383838  0.111855  0.065327  0.111457  0.333333   \n",
       "1        0.0  0.218724  0.505051  0.001340  0.030151  0.001868  0.011628   \n",
       "2        0.0  0.742616  0.989899  0.667783  0.075377  0.257161  0.383721   \n",
       "3        0.5  0.569239  0.484848  0.160750  0.336683  0.310710  0.771318   \n",
       "4        0.5  0.450520  0.393939  0.028131  0.000000  0.009963  0.000000   \n",
       "\n",
       "     Sweets      Gold  NumWebVisitsMonth       Age     Spent  Living_With  \\\n",
       "0  0.049430  0.193370               0.40  0.553571  0.207937          1.0   \n",
       "1  0.003802  0.024862               0.40  0.410714  0.007937          1.0   \n",
       "2  0.114068  0.209945               0.10  0.428571  0.645238          1.0   \n",
       "3  0.000000  0.450276               0.10  0.696429  0.461905          1.0   \n",
       "4  0.000000  0.049724               0.25  0.357143  0.028571          1.0   \n",
       "\n",
       "   Children  Family_Size  Is_Parent  NumTotalPurchases  Customer_For  \n",
       "0  0.000000         0.25        0.0           0.435897      0.780809  \n",
       "1  0.333333         0.50        1.0           0.102564      0.413923  \n",
       "2  0.000000         0.25        0.0           0.615385      0.569144  \n",
       "3  0.000000         0.25        0.0           0.435897      0.062088  \n",
       "4  0.666667         0.75        1.0           0.230769      0.115710  "
      ]
     },
     "execution_count": 3,
     "metadata": {},
     "output_type": "execute_result"
    }
   ],
   "source": [
    "y_train_pred_values = []\n",
    "y_pred_values = []\n",
    "X_train.head()"
   ]
  },
  {
   "cell_type": "code",
   "execution_count": 4,
   "id": "ad8e247f-9ee9-4e51-827e-1c2212c0a370",
   "metadata": {},
   "outputs": [],
   "source": [
    "def model_info(y_real, y_pred):\n",
    "    print('Confusion matrix: \\n', confusion_matrix(y_real, y_pred))\n",
    "    print('Accuracy score: ', accuracy_score(y_real, y_pred))\n",
    "    print('Precision score: ', precision_score(y_real, y_pred))\n",
    "    print('Recall score: ', recall_score(y_real, y_pred))\n",
    "    print('F1 score: ', f1_score(y_real, y_pred))"
   ]
  },
  {
   "cell_type": "code",
   "execution_count": 5,
   "id": "ebe62f9b-ae96-4a88-98db-a2fc053cfe42",
   "metadata": {},
   "outputs": [],
   "source": [
    "def build_model(model, X_train, X_test, y_train, y_test):\n",
    "    model.fit(X_train, y_train)\n",
    "\n",
    "    print('Train data:\\n')\n",
    "    y_train_pred = model.predict(X_train)\n",
    "    model_info(y_train, y_train_pred)\n",
    "    \n",
    "    print('\\n--------------------------------------\\n')\n",
    "\n",
    "    print('Test data:\\n')\n",
    "    y_pred = model.predict(X_test)\n",
    "    model_info(y_test, y_pred)\n",
    "\n",
    "    return model,y_train_pred, y_pred"
   ]
  },
  {
   "cell_type": "code",
   "execution_count": 6,
   "id": "ebc8467c-fd14-4ad2-a03c-144176f82e65",
   "metadata": {},
   "outputs": [],
   "source": [
    "knn = KNeighborsClassifier()"
   ]
  },
  {
   "cell_type": "code",
   "execution_count": 7,
   "id": "a35864d0-dc2a-4387-afa6-e9a04f9386c9",
   "metadata": {},
   "outputs": [
    {
     "name": "stdout",
     "output_type": "stream",
     "text": [
      "Train data:\n",
      "\n",
      "Confusion matrix: \n",
      " [[1143   68]\n",
      " [ 209  251]]\n",
      "Accuracy score:  0.834230999401556\n",
      "Precision score:  0.786833855799373\n",
      "Recall score:  0.5456521739130434\n",
      "F1 score:  0.644415917843389\n",
      "\n",
      "--------------------------------------\n",
      "\n",
      "Test data:\n",
      "\n",
      "Confusion matrix: \n",
      " [[377  33]\n",
      " [ 96  52]]\n",
      "Accuracy score:  0.7688172043010753\n",
      "Precision score:  0.611764705882353\n",
      "Recall score:  0.35135135135135137\n",
      "F1 score:  0.4463519313304722\n"
     ]
    }
   ],
   "source": [
    "knn, y_train_pred, y_pred = build_model(knn, X_train, X_test, y_train, y_test)\n",
    "y_train_pred_values.append(y_train_pred)\n",
    "y_pred_values.append(y_pred)"
   ]
  },
  {
   "cell_type": "code",
   "execution_count": 8,
   "id": "fd99f42f-5d1f-4caf-96ea-af55a16c3b35",
   "metadata": {},
   "outputs": [
    {
     "data": {
      "text/plain": [
       "41"
      ]
     },
     "execution_count": 8,
     "metadata": {},
     "output_type": "execute_result"
    }
   ],
   "source": [
    "import math\n",
    "math.ceil(math.sqrt(X_train.shape[0]))"
   ]
  },
  {
   "cell_type": "code",
   "execution_count": 9,
   "id": "da0033a4-a005-4c10-92d7-c5c4235d1871",
   "metadata": {},
   "outputs": [],
   "source": [
    "params = {\n",
    "    'n_neighbors': [20 ,25, 30, 35, 40],\n",
    "    'weights': ['uniform', 'distance'],\n",
    "    'p': [1, 2]\n",
    "}"
   ]
  },
  {
   "cell_type": "code",
   "execution_count": 10,
   "id": "43b16c19-8cb3-4c44-87a0-0fd5e7d441c4",
   "metadata": {},
   "outputs": [],
   "source": [
    "estimator = GridSearchCV(KNeighborsClassifier(), param_grid=params, cv=4)"
   ]
  },
  {
   "cell_type": "code",
   "execution_count": 11,
   "id": "a629a1f8-ea99-41df-9cf7-dea0704cde53",
   "metadata": {},
   "outputs": [
    {
     "data": {
      "text/html": [
       "<style>#sk-container-id-1 {color: black;}#sk-container-id-1 pre{padding: 0;}#sk-container-id-1 div.sk-toggleable {background-color: white;}#sk-container-id-1 label.sk-toggleable__label {cursor: pointer;display: block;width: 100%;margin-bottom: 0;padding: 0.3em;box-sizing: border-box;text-align: center;}#sk-container-id-1 label.sk-toggleable__label-arrow:before {content: \"▸\";float: left;margin-right: 0.25em;color: #696969;}#sk-container-id-1 label.sk-toggleable__label-arrow:hover:before {color: black;}#sk-container-id-1 div.sk-estimator:hover label.sk-toggleable__label-arrow:before {color: black;}#sk-container-id-1 div.sk-toggleable__content {max-height: 0;max-width: 0;overflow: hidden;text-align: left;background-color: #f0f8ff;}#sk-container-id-1 div.sk-toggleable__content pre {margin: 0.2em;color: black;border-radius: 0.25em;background-color: #f0f8ff;}#sk-container-id-1 input.sk-toggleable__control:checked~div.sk-toggleable__content {max-height: 200px;max-width: 100%;overflow: auto;}#sk-container-id-1 input.sk-toggleable__control:checked~label.sk-toggleable__label-arrow:before {content: \"▾\";}#sk-container-id-1 div.sk-estimator input.sk-toggleable__control:checked~label.sk-toggleable__label {background-color: #d4ebff;}#sk-container-id-1 div.sk-label input.sk-toggleable__control:checked~label.sk-toggleable__label {background-color: #d4ebff;}#sk-container-id-1 input.sk-hidden--visually {border: 0;clip: rect(1px 1px 1px 1px);clip: rect(1px, 1px, 1px, 1px);height: 1px;margin: -1px;overflow: hidden;padding: 0;position: absolute;width: 1px;}#sk-container-id-1 div.sk-estimator {font-family: monospace;background-color: #f0f8ff;border: 1px dotted black;border-radius: 0.25em;box-sizing: border-box;margin-bottom: 0.5em;}#sk-container-id-1 div.sk-estimator:hover {background-color: #d4ebff;}#sk-container-id-1 div.sk-parallel-item::after {content: \"\";width: 100%;border-bottom: 1px solid gray;flex-grow: 1;}#sk-container-id-1 div.sk-label:hover label.sk-toggleable__label {background-color: #d4ebff;}#sk-container-id-1 div.sk-serial::before {content: \"\";position: absolute;border-left: 1px solid gray;box-sizing: border-box;top: 0;bottom: 0;left: 50%;z-index: 0;}#sk-container-id-1 div.sk-serial {display: flex;flex-direction: column;align-items: center;background-color: white;padding-right: 0.2em;padding-left: 0.2em;position: relative;}#sk-container-id-1 div.sk-item {position: relative;z-index: 1;}#sk-container-id-1 div.sk-parallel {display: flex;align-items: stretch;justify-content: center;background-color: white;position: relative;}#sk-container-id-1 div.sk-item::before, #sk-container-id-1 div.sk-parallel-item::before {content: \"\";position: absolute;border-left: 1px solid gray;box-sizing: border-box;top: 0;bottom: 0;left: 50%;z-index: -1;}#sk-container-id-1 div.sk-parallel-item {display: flex;flex-direction: column;z-index: 1;position: relative;background-color: white;}#sk-container-id-1 div.sk-parallel-item:first-child::after {align-self: flex-end;width: 50%;}#sk-container-id-1 div.sk-parallel-item:last-child::after {align-self: flex-start;width: 50%;}#sk-container-id-1 div.sk-parallel-item:only-child::after {width: 0;}#sk-container-id-1 div.sk-dashed-wrapped {border: 1px dashed gray;margin: 0 0.4em 0.5em 0.4em;box-sizing: border-box;padding-bottom: 0.4em;background-color: white;}#sk-container-id-1 div.sk-label label {font-family: monospace;font-weight: bold;display: inline-block;line-height: 1.2em;}#sk-container-id-1 div.sk-label-container {text-align: center;}#sk-container-id-1 div.sk-container {/* jupyter's `normalize.less` sets `[hidden] { display: none; }` but bootstrap.min.css set `[hidden] { display: none !important; }` so we also need the `!important` here to be able to override the default hidden behavior on the sphinx rendered scikit-learn.org. See: https://github.com/scikit-learn/scikit-learn/issues/21755 */display: inline-block !important;position: relative;}#sk-container-id-1 div.sk-text-repr-fallback {display: none;}</style><div id=\"sk-container-id-1\" class=\"sk-top-container\"><div class=\"sk-text-repr-fallback\"><pre>GridSearchCV(cv=4, estimator=KNeighborsClassifier(),\n",
       "             param_grid={&#x27;n_neighbors&#x27;: [20, 25, 30, 35, 40], &#x27;p&#x27;: [1, 2],\n",
       "                         &#x27;weights&#x27;: [&#x27;uniform&#x27;, &#x27;distance&#x27;]})</pre><b>In a Jupyter environment, please rerun this cell to show the HTML representation or trust the notebook. <br />On GitHub, the HTML representation is unable to render, please try loading this page with nbviewer.org.</b></div><div class=\"sk-container\" hidden><div class=\"sk-item sk-dashed-wrapped\"><div class=\"sk-label-container\"><div class=\"sk-label sk-toggleable\"><input class=\"sk-toggleable__control sk-hidden--visually\" id=\"sk-estimator-id-1\" type=\"checkbox\" ><label for=\"sk-estimator-id-1\" class=\"sk-toggleable__label sk-toggleable__label-arrow\">GridSearchCV</label><div class=\"sk-toggleable__content\"><pre>GridSearchCV(cv=4, estimator=KNeighborsClassifier(),\n",
       "             param_grid={&#x27;n_neighbors&#x27;: [20, 25, 30, 35, 40], &#x27;p&#x27;: [1, 2],\n",
       "                         &#x27;weights&#x27;: [&#x27;uniform&#x27;, &#x27;distance&#x27;]})</pre></div></div></div><div class=\"sk-parallel\"><div class=\"sk-parallel-item\"><div class=\"sk-item\"><div class=\"sk-label-container\"><div class=\"sk-label sk-toggleable\"><input class=\"sk-toggleable__control sk-hidden--visually\" id=\"sk-estimator-id-2\" type=\"checkbox\" ><label for=\"sk-estimator-id-2\" class=\"sk-toggleable__label sk-toggleable__label-arrow\">estimator: KNeighborsClassifier</label><div class=\"sk-toggleable__content\"><pre>KNeighborsClassifier()</pre></div></div></div><div class=\"sk-serial\"><div class=\"sk-item\"><div class=\"sk-estimator sk-toggleable\"><input class=\"sk-toggleable__control sk-hidden--visually\" id=\"sk-estimator-id-3\" type=\"checkbox\" ><label for=\"sk-estimator-id-3\" class=\"sk-toggleable__label sk-toggleable__label-arrow\">KNeighborsClassifier</label><div class=\"sk-toggleable__content\"><pre>KNeighborsClassifier()</pre></div></div></div></div></div></div></div></div></div></div>"
      ],
      "text/plain": [
       "GridSearchCV(cv=4, estimator=KNeighborsClassifier(),\n",
       "             param_grid={'n_neighbors': [20, 25, 30, 35, 40], 'p': [1, 2],\n",
       "                         'weights': ['uniform', 'distance']})"
      ]
     },
     "execution_count": 11,
     "metadata": {},
     "output_type": "execute_result"
    }
   ],
   "source": [
    "estimator.fit(X_train, y_train)"
   ]
  },
  {
   "cell_type": "code",
   "execution_count": 12,
   "id": "72bc68b9-83c0-4495-b2f2-d31fd99e6457",
   "metadata": {},
   "outputs": [
    {
     "data": {
      "text/plain": [
       "{'n_neighbors': 30, 'p': 1, 'weights': 'distance'}"
      ]
     },
     "execution_count": 12,
     "metadata": {},
     "output_type": "execute_result"
    }
   ],
   "source": [
    "estimator.best_params_"
   ]
  },
  {
   "cell_type": "code",
   "execution_count": 13,
   "id": "45555cd2-e7b1-4567-8c59-2d6223baded0",
   "metadata": {},
   "outputs": [
    {
     "data": {
      "text/plain": [
       "0.8013063233623627"
      ]
     },
     "execution_count": 13,
     "metadata": {},
     "output_type": "execute_result"
    }
   ],
   "source": [
    "estimator.best_score_"
   ]
  },
  {
   "cell_type": "code",
   "execution_count": 14,
   "id": "2cac5a7a-e082-4a47-9b6a-27d7ad59b79d",
   "metadata": {},
   "outputs": [
    {
     "name": "stdout",
     "output_type": "stream",
     "text": [
      "Train data:\n",
      "\n",
      "Confusion matrix: \n",
      " [[1210    1]\n",
      " [   3  457]]\n",
      "Accuracy score:  0.997606223818073\n",
      "Precision score:  0.9978165938864629\n",
      "Recall score:  0.9934782608695653\n",
      "F1 score:  0.9956427015250545\n",
      "\n",
      "--------------------------------------\n",
      "\n",
      "Test data:\n",
      "\n",
      "Confusion matrix: \n",
      " [[398  12]\n",
      " [ 92  56]]\n",
      "Accuracy score:  0.8136200716845878\n",
      "Precision score:  0.8235294117647058\n",
      "Recall score:  0.3783783783783784\n",
      "F1 score:  0.5185185185185186\n"
     ]
    }
   ],
   "source": [
    "estimator, y_train_pred, y_pred = build_model(estimator, X_train, X_test, y_train, y_test)\n",
    "y_train_pred_values.append(y_train_pred)\n",
    "y_pred_values.append(y_pred)"
   ]
  },
  {
   "cell_type": "code",
   "execution_count": 15,
   "id": "50ef2ac4-ef43-4d9b-818e-deaecf9e9e5a",
   "metadata": {},
   "outputs": [
    {
     "data": {
      "image/png": "[encoded data removed]",
      "text/plain": [
       "<Figure size 640x480 with 1 Axes>"
      ]
     },
     "metadata": {},
     "output_type": "display_data"
    }
   ],
   "source": [
    "model_names = ['KNearestNeighbors', 'GridSearchCV']\n",
    "models = [knn, estimator.best_estimator_]\n",
    "for model, model_name in zip(models, model_names):\n",
    "    y_pred = model.predict(X_test)\n",
    "    fpr,tpr, _ = roc_curve(y_test, y_pred)\n",
    "    auc = roc_auc_score(y_test, y_pred)\n",
    "    lab = model_name + \"(auc: \" + str(round(auc, 2)) + \")\"\n",
    "    plt.plot(fpr, tpr, label=lab)\n",
    "\n",
    "plt.plot([0, 1], [0, 1], label='Random (auc: 0.5)', color='red')\n",
    "plt.title(\"Model comparison\")\n",
    "plt.legend()\n",
    "plt.show()"
   ]
  },
  {
   "cell_type": "code",
   "execution_count": 16,
   "id": "2573d614-fc26-4db5-b1b1-b7ce15e69607",
   "metadata": {},
   "outputs": [],
   "source": [
    "accuracy_train = []\n",
    "precision_train = []\n",
    "recall_train = []\n",
    "f1_train = []\n",
    "\n",
    "accuracy_test = []\n",
    "precision_test = []\n",
    "recall_test = []\n",
    "f1_test = []\n",
    "\n",
    "\n",
    "for y_train_pred, y_pred in zip(y_train_pred_values, y_pred_values):\n",
    "    accuracy_train.append(accuracy_score(y_train, y_train_pred))\n",
    "    precision_train.append(precision_score(y_train, y_train_pred))\n",
    "    recall_train.append(recall_score(y_train, y_train_pred))\n",
    "    f1_train.append(f1_score(y_train, y_train_pred))\n",
    "\n",
    "    accuracy_test.append(accuracy_score(y_test, y_pred))\n",
    "    precision_test.append(precision_score(y_test, y_pred))\n",
    "    recall_test.append(recall_score(y_test, y_pred))\n",
    "    f1_test.append(f1_score(y_test, y_pred))"
   ]
  },
  {
   "cell_type": "code",
   "execution_count": 17,
   "id": "1b38aa7b-253e-4fca-94ad-061697761c11",
   "metadata": {},
   "outputs": [
    {
     "data": {
      "text/plain": [
       "['knn.joblib']"
      ]
     },
     "execution_count": 17,
     "metadata": {},
     "output_type": "execute_result"
    }
   ],
   "source": [
    "dump((model_names,accuracy_train,precision_train,recall_train,f1_train,accuracy_test,precision_test,recall_test,f1_test), 'knn.joblib')"
   ]
  }
 ],
 "metadata": {
  "kernelspec": {
   "display_name": "Python 3 (ipykernel)",
   "language": "python",
   "name": "python3"
  },
  "language_info": {
   "codemirror_mode": {
    "name": "ipython",
    "version": 3
   },
   "file_extension": ".py",
   "mimetype": "text/x-python",
   "name": "python",
   "nbconvert_exporter": "python",
   "pygments_lexer": "ipython3",
   "version": "3.9.2"
  }
 },
 "nbformat": 4,
 "nbformat_minor": 5
}
